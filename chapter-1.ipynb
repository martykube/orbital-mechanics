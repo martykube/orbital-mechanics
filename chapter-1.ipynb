{
 "cells": [
  {
   "cell_type": "markdown",
   "metadata": {},
   "source": [
    "# Chapter 1"
   ]
  },
  {
   "cell_type": "markdown",
   "metadata": {},
   "source": [
    "## Example 1.1\n",
    "\n",
    "Calculate the directions angles of \n",
    "\\begin{align}\n",
    "\\mathbf{A} = \\hat{\\mathbf{i}}  - 4 \\hat{\\mathbf{j}} + 8 \\hat{\\mathbf{j}} \n",
    "\\end{align}"
   ]
  },
  {
   "cell_type": "markdown",
   "metadata": {},
   "source": [
    "\n",
    "$$\\mathbf{A} = \\hat{\\mathbf{i}}  - 4 \\hat{\\mathbf{j}} + 8 \\hat{\\mathbf{j}} $$\n"
   ]
  },
  {
   "cell_type": "code",
   "execution_count": 2,
   "metadata": {},
   "outputs": [
    {
     "data": {
      "text/plain": [
       "9.0"
      ]
     },
     "execution_count": 2,
     "metadata": {},
     "output_type": "execute_result"
    }
   ],
   "source": [
    "import numpy as np\n",
    "a = np.sqrt(np.square(1) + np.square(-4) + np.square(8))\n",
    "a"
   ]
  },
  {
   "cell_type": "code",
   "execution_count": 31,
   "metadata": {},
   "outputs": [
    {
     "data": {
      "text/plain": [
       "83.62062979155719"
      ]
     },
     "execution_count": 31,
     "metadata": {},
     "output_type": "execute_result"
    }
   ],
   "source": [
    "theta_x = np.arccos(1 / a) * 180 / np.pi\n",
    "theta_x"
   ]
  },
  {
   "cell_type": "code",
   "execution_count": 32,
   "metadata": {},
   "outputs": [
    {
     "data": {
      "text/plain": [
       "116.38779996124299"
      ]
     },
     "execution_count": 32,
     "metadata": {},
     "output_type": "execute_result"
    }
   ],
   "source": [
    "theta_y = np.arccos(-4 / a) * 180 / np.pi\n",
    "theta_y"
   ]
  },
  {
   "cell_type": "code",
   "execution_count": 33,
   "metadata": {},
   "outputs": [
    {
     "data": {
      "text/plain": [
       "27.266044450732828"
      ]
     },
     "execution_count": 33,
     "metadata": {},
     "output_type": "execute_result"
    }
   ],
   "source": [
    "theta_z = np.arccos(8 / a ) * 180 / np.pi\n",
    "theta_z"
   ]
  },
  {
   "cell_type": "markdown",
   "metadata": {},
   "source": [
    "# Section 1.2\n",
    "\n",
    "\\begin{align}\n",
    "\\mathbf{A} \\mathbf{B} = A \\cdot B \\cos \\theta \\\\\n",
    "\\mathbf{A} \\cdot \\mathbf{B} = \\mathbf{B} \\cdot \\mathbf{A} \\\\\n",
    "\\mathbf{A} \\cdot \\mathbf{B} = A_x B_x + A_y B_y + A_z B_z\n",
    "\\end{align}\n",
    "\n"
   ]
  },
  {
   "cell_type": "code",
   "execution_count": 34,
   "metadata": {},
   "outputs": [
    {
     "data": {
      "text/plain": [
       "2.23606797749979"
      ]
     },
     "execution_count": 34,
     "metadata": {},
     "output_type": "execute_result"
    }
   ],
   "source": [
    "np.sqrt(5)"
   ]
  },
  {
   "cell_type": "code",
   "execution_count": 35,
   "metadata": {},
   "outputs": [
    {
     "data": {
      "text/plain": [
       "3.1622776601683795"
      ]
     },
     "execution_count": 35,
     "metadata": {},
     "output_type": "execute_result"
    }
   ],
   "source": [
    "np.sqrt(10)"
   ]
  },
  {
   "cell_type": "markdown",
   "metadata": {},
   "source": [
    "## Try that on a non-orthoganal basis"
   ]
  },
  {
   "cell_type": "code",
   "execution_count": 36,
   "metadata": {},
   "outputs": [
    {
     "ename": "NameError",
     "evalue": "name 'B' is not defined",
     "output_type": "error",
     "traceback": [
      "\u001b[0;31m---------------------------------------------------------------------------\u001b[0m",
      "\u001b[0;31mNameError\u001b[0m                                 Traceback (most recent call last)",
      "\u001b[0;32m<ipython-input-36-28b2b220a0c0>\u001b[0m in \u001b[0;36m<module>\u001b[0;34m\u001b[0m\n\u001b[1;32m      2\u001b[0m \u001b[0mD\u001b[0m \u001b[0;34m=\u001b[0m \u001b[0mnp\u001b[0m\u001b[0;34m.\u001b[0m\u001b[0marray\u001b[0m\u001b[0;34m(\u001b[0m\u001b[0;34m[\u001b[0m\u001b[0;36m5\u001b[0m\u001b[0;34m,\u001b[0m \u001b[0;36m0.5\u001b[0m\u001b[0;34m]\u001b[0m\u001b[0;34m)\u001b[0m\u001b[0;34m\u001b[0m\u001b[0m\n\u001b[1;32m      3\u001b[0m \u001b[0;34m\u001b[0m\u001b[0m\n\u001b[0;32m----> 4\u001b[0;31m \u001b[0mnp\u001b[0m\u001b[0;34m.\u001b[0m\u001b[0mdot\u001b[0m\u001b[0;34m(\u001b[0m\u001b[0mB\u001b[0m\u001b[0;34m,\u001b[0m \u001b[0mC\u001b[0m\u001b[0;34m)\u001b[0m \u001b[0;34m*\u001b[0m \u001b[0mnp\u001b[0m\u001b[0;34m.\u001b[0m\u001b[0mdot\u001b[0m\u001b[0;34m(\u001b[0m\u001b[0mA\u001b[0m\u001b[0;34m,\u001b[0m \u001b[0mC\u001b[0m\u001b[0;34m)\u001b[0m \u001b[0;34m+\u001b[0m \u001b[0mnp\u001b[0m\u001b[0;34m.\u001b[0m\u001b[0mdot\u001b[0m\u001b[0;34m(\u001b[0m\u001b[0mB\u001b[0m\u001b[0;34m,\u001b[0m \u001b[0mC\u001b[0m\u001b[0;34m)\u001b[0m \u001b[0;34m*\u001b[0m \u001b[0mnp\u001b[0m\u001b[0;34m.\u001b[0m\u001b[0mdot\u001b[0m\u001b[0;34m(\u001b[0m\u001b[0mA\u001b[0m\u001b[0;34m,\u001b[0m \u001b[0mD\u001b[0m\u001b[0;34m)\u001b[0m  \u001b[0;34m+\u001b[0m \u001b[0mnp\u001b[0m\u001b[0;34m.\u001b[0m\u001b[0mdot\u001b[0m\u001b[0;34m(\u001b[0m\u001b[0mB\u001b[0m\u001b[0;34m,\u001b[0m \u001b[0mD\u001b[0m\u001b[0;34m)\u001b[0m \u001b[0;34m*\u001b[0m \u001b[0mnp\u001b[0m\u001b[0;34m.\u001b[0m\u001b[0mdot\u001b[0m\u001b[0;34m(\u001b[0m\u001b[0mA\u001b[0m\u001b[0;34m,\u001b[0m \u001b[0mC\u001b[0m\u001b[0;34m)\u001b[0m  \u001b[0;34m+\u001b[0m \u001b[0mnp\u001b[0m\u001b[0;34m.\u001b[0m\u001b[0mdot\u001b[0m\u001b[0;34m(\u001b[0m\u001b[0mB\u001b[0m\u001b[0;34m,\u001b[0m \u001b[0mD\u001b[0m\u001b[0;34m)\u001b[0m \u001b[0;34m*\u001b[0m \u001b[0mnp\u001b[0m\u001b[0;34m.\u001b[0m\u001b[0mdot\u001b[0m\u001b[0;34m(\u001b[0m\u001b[0mA\u001b[0m\u001b[0;34m,\u001b[0m \u001b[0mD\u001b[0m\u001b[0;34m)\u001b[0m\u001b[0;34m\u001b[0m\u001b[0m\n\u001b[0m",
      "\u001b[0;31mNameError\u001b[0m: name 'B' is not defined"
     ]
    }
   ],
   "source": [
    "C = np.array([0.5, 3])\n",
    "D = np.array([5, 0.5])\n",
    "\n",
    "np.dot(B, C) * np.dot(A, C) + np.dot(B, C) * np.dot(A, D)  + np.dot(B, D) * np.dot(A, C)  + np.dot(B, D) * np.dot(A, D)  "
   ]
  },
  {
   "cell_type": "markdown",
   "metadata": {},
   "source": [
    "## Example 1.2\n",
    "\n",
    "Let\n",
    "\n",
    "\\begin{align}\n",
    "A = \\hat{\\mathbf{i}} + 6 \\hat{\\mathbf{j}} + 18 \\hat{\\mathbf{k}} \\\\\n",
    "B = 42 \\hat{\\mathbf{i}}  - 69 \\hat{\\mathbf{j}} + 98 \\hat{\\mathbf{k}} \\\\\n",
    "\\end{align}\n",
    "\n",
    "Calculate\n",
    "\n",
    "* The angle between $A$ and $B$\n",
    "* Thee projection of $B$ in the direction of $A$\n",
    "* The projection of $A$ in the direction of $B$\n"
   ]
  },
  {
   "cell_type": "code",
   "execution_count": 37,
   "metadata": {},
   "outputs": [
    {
     "data": {
      "text/plain": [
       "54.76893621820772"
      ]
     },
     "execution_count": 37,
     "metadata": {},
     "output_type": "execute_result"
    }
   ],
   "source": [
    "A = np.array([1, 6, 18])\n",
    "B = np.array([42, -69, 98])\n",
    "a = np.linalg.norm(A)\n",
    "b = np.linalg.norm(B)\n",
    "a_dot_b = np.dot(A, B)\n",
    "theta = np.arccos(a_dot_b / (a * b))\n",
    "theta * 180 / np.pi\n"
   ]
  },
  {
   "cell_type": "code",
   "execution_count": 38,
   "metadata": {},
   "outputs": [
    {
     "data": {
      "text/plain": [
       "73.26315789473684"
      ]
     },
     "execution_count": 38,
     "metadata": {},
     "output_type": "execute_result"
    }
   ],
   "source": [
    "np.dot(B, A / a)"
   ]
  },
  {
   "cell_type": "code",
   "execution_count": 39,
   "metadata": {},
   "outputs": [
    {
     "data": {
      "text/plain": [
       "10.960629921259843"
      ]
     },
     "execution_count": 39,
     "metadata": {},
     "output_type": "execute_result"
    }
   ],
   "source": [
    "np.dot(A, B / b)"
   ]
  },
  {
   "cell_type": "markdown",
   "metadata": {},
   "source": [
    "## Example 1.3\n",
    "\n",
    "Let\n",
    "\n",
    "\\begin{align}\n",
    "A = -3\\hat{\\mathbf{i}} + 7 \\hat{\\mathbf{j}} + 9 \\hat{\\mathbf{k}} \\\\\n",
    "B = 6 \\hat{\\mathbf{i}}  - 5 \\hat{\\mathbf{j}} + 8 \\hat{\\mathbf{k}} \\\\\n",
    "\\end{align}\n",
    "\n",
    "Find a unit vector which lies in the plane of $\\mathbf{A}$ and $\\mathbf{B}$ and perpendicular to $\\mathbf{A}$ \n"
   ]
  },
  {
   "cell_type": "code",
   "execution_count": 40,
   "metadata": {},
   "outputs": [
    {
     "data": {
      "text/plain": [
       "array([ 0.57938479, -0.53841819,  0.61189797])"
      ]
     },
     "execution_count": 40,
     "metadata": {},
     "output_type": "execute_result"
    }
   ],
   "source": [
    "A = (-3, 7, 9)\n",
    "B = (6, -5, 8)\n",
    "D = np.cross(A, B)\n",
    "C = np.cross(D, A)\n",
    "C / np.linalg.norm(C)"
   ]
  },
  {
   "cell_type": "markdown",
   "metadata": {},
   "source": [
    "# Problems \n",
    "## 1.3\n",
    "\n",
    "Let\n",
    "\n",
    "\\begin{align}\n",
    "\\mathbf{A} = 8 \\hat{\\mathbf{i}} + 9 \\hat{\\mathbf{j}} + 12 \\hat{\\mathbf{k}} \\\\\n",
    "\\mathbf{B} = 9 \\hat{\\mathbf{i}} + 6 \\hat{\\mathbf{j}} +  \\hat{\\mathbf{k}} \\\\\n",
    "\\mathbf{C} = 3 \\hat{\\mathbf{i}} + 5 \\hat{\\mathbf{j}} + 10 \\hat{\\mathbf{k}}\n",
    "\\end{align}\n",
    "\n",
    "\n",
    "Calculate the projection $C_{AB}$ of $\\mathbf{C}$ onto the plane of $\\mathbf{A}$ and $\\mathbf{B}$"
   ]
  },
  {
   "cell_type": "code",
   "execution_count": 42,
   "metadata": {},
   "outputs": [
    {
     "name": "stdout",
     "output_type": "stream",
     "text": [
      "[-0.51340123  0.81492258 -0.26892445]\n",
      "-0.15483529095893456\n",
      "11.575836902790225\n",
      "11.576872374148655\n"
     ]
    }
   ],
   "source": [
    "a = np.array([8, 9, 12])\n",
    "b = np.array([9, 6, 1])\n",
    "c = np.array([3, 5, 10])\n",
    "\n",
    "# find unit normal\n",
    "n = np.cross(a, b)\n",
    "u_n = n / np.linalg.norm(n)\n",
    "print(u_n)\n",
    "\n",
    "# find magnitude of c projected onto unit normal for a and b\n",
    "c_ab = np.dot(c, u_n)\n",
    "print(c_ab)\n",
    "\n",
    "# find magnitude of c\n",
    "c_mag = np.linalg.norm(c)\n",
    "print(c_mag)\n",
    "\n",
    "c_ab = np.sqrt(np.square(c_ab) + np.square(c_mag))\n",
    "print(c_ab)"
   ]
  },
  {
   "cell_type": "markdown",
   "metadata": {},
   "source": [
    "# Example 1.5\n",
    "\n",
    "Given:\n",
    "\n",
    "\\begin{align}\n",
    "\\hat{\\mathbf{r}} = ( 8t^2 + 7t +6) \\hat{\\mathbf{i}} + (5t^3 +4) \\hat{\\mathbf{j}} + (0.3t^4 + 2t^2 +1) \\hat{\\mathbf{k}}\n",
    "\\end{align}\n",
    "\n",
    "Find:\n",
    "\n",
    "* The magnitude of the derivate of r\n",
    "* The derivate of the magnitude of r"
   ]
  },
  {
   "cell_type": "code",
   "execution_count": 9,
   "metadata": {},
   "outputs": [
    {
     "data": {
      "text/plain": [
       "1953.3276734844055"
      ]
     },
     "execution_count": 9,
     "metadata": {},
     "output_type": "execute_result"
    }
   ],
   "source": [
    "# maginutde of derivate\n",
    "np.sqrt(1.44 * 10 ** 6  + 234.6 * 10**4 + 272 * 10**2 + 224 * 10 + 49)"
   ]
  },
  {
   "cell_type": "code",
   "execution_count": 35,
   "metadata": {},
   "outputs": [
    {
     "name": "stdout",
     "output_type": "stream",
     "text": [
      "11621532.0\n",
      "6003.198813965768\n",
      "1935.889908054321\n"
     ]
    }
   ],
   "source": [
    "# derivate of magnitude\n",
    "t = 10\n",
    "\n",
    "num = (0.36 * (t ** 7)) + (78.6 * (t ** 5)) + (137.2 * (t ** 3)) + (228 * (t **2)) + (149 * t) + 42\n",
    "print(num) \n",
    "demon = np.sqrt(0.09 * t ** 8 + 26.2 * t ** 6 + 68.6 * t ** 4 + 152 * t ** 3 + 149 + t ** 2 + 84 + t + 53)\n",
    "print(demon)\n",
    "print(num/demon)"
   ]
  },
  {
   "cell_type": "markdown",
   "metadata": {},
   "source": [
    "# Example 1.6\n",
    "\n",
    "The position, velocity and accleration of a particle are given by\n",
    "\n",
    "\\begin{align}\n",
    "\\mathbf{r} = 250 \\hat{\\mathbf{i}} + 630 \\hat{\\mathbf{j}} + 430 \\hat{\\mathbf{k}} \\\\\n",
    "\\mathbf{v} = 90 \\hat{\\mathbf{i}} + 125 \\hat{\\mathbf{j}} + 170 \\hat{\\mathbf{k}} \\\\\n",
    "\\mathbf{a} = 16 \\hat{\\mathbf{i}} + 125 \\hat{\\mathbf{j}} + 30 \\hat{\\mathbf{k}}\n",
    "\\end{align}\n",
    "\n",
    "## Solution\n",
    "\n",
    "The particle position is know, $\\mathbf{r}$.  The position of $C$ is given by\n",
    "\n",
    "\\begin{align}\n",
    "\\mathbf{r_c} = \\mathbf{r} + \\rho \\hat{\\mathbf{u_n}}\n",
    "\\end{align}\n",
    "\n",
    "Find $\\rho$ and $\\hat{\\mathbf{u_n}}$.  We seek $\\hat{\\mathbf{u_n}}$ as \n",
    "\n",
    "\\begin{align}\n",
    "\\hat{\\mathbf{u_n}} = \\hat{\\mathbf{u_b}} \\times{\\hat{\\mathbf{u_t}}}\n",
    "\\end{align}\n",
    "\n",
    "We find\n",
    "\n",
    "\\begin{align}\n",
    "\\hat{\\mathbf{u_t}} = \\frac{\\mathbf{v}}{v} \\\\\n",
    "\\hat{\\mathbf{u_b}} = \\frac{\\mathbf{v}\\times{\\mathbf{a}}}{\\left\\lVert \\mathbf{v}\\times{\\mathbf{a}}\\right\\rVert}  \n",
    "\\end{align}\n",
    "\n",
    "For $\\rho$ use \n",
    "\n",
    "\\begin{align}\n",
    "\\rho = \\frac{v^2}{a_n} \\\\\n",
    "a_n = \\mathbf{a} \\cdot \\hat{\\mathbf{u_n}} \\\\\n",
    "v^2 = \\sqrt{\\mathbf{v} \\cdot \\mathbf{v}}\n",
    "\\end{align}\n",
    "\n",
    "\n"
   ]
  }
 ],
 "metadata": {
  "kernelspec": {
   "display_name": "Python 3",
   "language": "python",
   "name": "python3"
  },
  "language_info": {
   "codemirror_mode": {
    "name": "ipython",
    "version": 3
   },
   "file_extension": ".py",
   "mimetype": "text/x-python",
   "name": "python",
   "nbconvert_exporter": "python",
   "pygments_lexer": "ipython3",
   "version": "3.5.2"
  }
 },
 "nbformat": 4,
 "nbformat_minor": 2
}
